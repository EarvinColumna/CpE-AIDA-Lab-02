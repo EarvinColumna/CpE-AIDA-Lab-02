{
  "nbformat": 4,
  "nbformat_minor": 0,
  "metadata": {
    "colab": {
      "provenance": [],
      "authorship_tag": "ABX9TyP/NFzf9cuYghMxSVfmWczT",
      "include_colab_link": true
    },
    "kernelspec": {
      "name": "python3",
      "display_name": "Python 3"
    },
    "language_info": {
      "name": "python"
    }
  },
  "cells": [
    {
      "cell_type": "markdown",
      "metadata": {
        "id": "view-in-github",
        "colab_type": "text"
      },
      "source": [
        "<a href=\"https://colab.research.google.com/github/EarvinColumna/CpE-AIDA-Lab-02/blob/main/Columna_PART2_LabExam.ipynb\" target=\"_parent\"><img src=\"https://colab.research.google.com/assets/colab-badge.svg\" alt=\"Open In Colab\"/></a>"
      ]
    },
    {
      "cell_type": "markdown",
      "source": [
        "##Part 2: Linear Algebra Review"
      ],
      "metadata": {
        "id": "YfB4oQxAx10Q"
      }
    },
    {
      "cell_type": "markdown",
      "source": [
        "A. Identify whether Matrix A is linearly dependent or independent. Provide necessary formal or mathematical proof of your claims. \n",
        "\n",
        "![image.png](data:image/png;base64,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)"
      ],
      "metadata": {
        "id": "HS0QjYBOylGQ"
      }
    },
    {
      "cell_type": "code",
      "execution_count": 42,
      "metadata": {
        "id": "1P7YRpoQw8A4"
      },
      "outputs": [],
      "source": [
        "import numpy as np\n",
        "import sympy\n",
        "from numpy import linalg as LA"
      ]
    },
    {
      "cell_type": "code",
      "source": [
        "quas = np.array ([[1, -2, -1], [-0.5, 1, 0.5],[1, -2, -1]])\n",
        "wex = sympy.Matrix(quas).T.rref()\n",
        "wex\n",
        "\n"
      ],
      "metadata": {
        "colab": {
          "base_uri": "https://localhost:8080/",
          "height": 0
        },
        "id": "rGErSkfVELLe",
        "outputId": "dc84a969-f784-4313-ca00-86e64ddff833"
      },
      "execution_count": 50,
      "outputs": [
        {
          "output_type": "execute_result",
          "data": {
            "text/plain": [
              "(Matrix([\n",
              " [1, -0.5, 1.0],\n",
              " [0,    0,   0],\n",
              " [0,    0,   0]]), (0,))"
            ]
          },
          "metadata": {},
          "execution_count": 50
        }
      ]
    },
    {
      "cell_type": "code",
      "source": [
        "if len(wex) == 2:\n",
        "    print(\"linearly independent\")\n",
        "else:\n",
        "    print(\"linearly dependent\")"
      ],
      "metadata": {
        "colab": {
          "base_uri": "https://localhost:8080/",
          "height": 0
        },
        "id": "K2xKWyNBHig-",
        "outputId": "2e5b9042-ec3a-4af7-d0c0-e9d1200769f2"
      },
      "execution_count": 51,
      "outputs": [
        {
          "output_type": "stream",
          "name": "stdout",
          "text": [
            "linearly independent\n"
          ]
        }
      ]
    },
    {
      "cell_type": "markdown",
      "source": [
        "B. Identify whether the two vectors A and B are orthogonal using the cosine similarity formula. You must provide the following in your solution: \n",
        "1. The inner product of A and B;\n",
        "2. The norm of A;\n",
        "3. The norm of B;\n",
        "4. The angle between A and B represented by θ. \n",
        "\n",
        "A = [13,20] \n",
        "\n",
        "B = [-2,17]"
      ],
      "metadata": {
        "id": "QKiEAvLvy_6J"
      }
    },
    {
      "cell_type": "code",
      "source": [
        "#1. The inner product of A and B;\n",
        "a = np.array([13,20])\n",
        "b = np.array([-2,17])\n",
        "inner = a @ b\n",
        "inner"
      ],
      "metadata": {
        "colab": {
          "base_uri": "https://localhost:8080/",
          "height": 0
        },
        "id": "E4GDiLudzrlP",
        "outputId": "68172bd7-61cd-4d52-add7-bca55711d227"
      },
      "execution_count": 29,
      "outputs": [
        {
          "output_type": "execute_result",
          "data": {
            "text/plain": [
              "314"
            ]
          },
          "metadata": {},
          "execution_count": 29
        }
      ]
    },
    {
      "cell_type": "code",
      "source": [
        "#2. The norm of A;\n",
        "LA.norm(a)"
      ],
      "metadata": {
        "colab": {
          "base_uri": "https://localhost:8080/",
          "height": 0
        },
        "id": "MqFJV2zk7rRN",
        "outputId": "915a6297-d4bf-4faf-ea11-c628652464bc"
      },
      "execution_count": 32,
      "outputs": [
        {
          "output_type": "execute_result",
          "data": {
            "text/plain": [
              "23.853720883753127"
            ]
          },
          "metadata": {},
          "execution_count": 32
        }
      ]
    },
    {
      "cell_type": "code",
      "source": [
        "#3. The norm of B;\n",
        "LA.norm(b)"
      ],
      "metadata": {
        "colab": {
          "base_uri": "https://localhost:8080/",
          "height": 0
        },
        "id": "CNixkbDe7r0-",
        "outputId": "41c74059-96cf-4c2a-8bf1-048c6d735a1d"
      },
      "execution_count": 15,
      "outputs": [
        {
          "output_type": "execute_result",
          "data": {
            "text/plain": [
              "17.11724276862369"
            ]
          },
          "metadata": {},
          "execution_count": 15
        }
      ]
    },
    {
      "cell_type": "code",
      "source": [
        "norms = LA.norm(a) * LA.norm(b)\n",
        "norms"
      ],
      "metadata": {
        "colab": {
          "base_uri": "https://localhost:8080/",
          "height": 0
        },
        "id": "j0vSV8W3DQ08",
        "outputId": "8c144a2d-a93d-4c2d-8126-4d6c34df4756"
      },
      "execution_count": 40,
      "outputs": [
        {
          "output_type": "execute_result",
          "data": {
            "text/plain": [
              "408.3099313021911"
            ]
          },
          "metadata": {},
          "execution_count": 40
        }
      ]
    },
    {
      "cell_type": "code",
      "source": [
        "#4. The angle between A and B represented by θ.\n",
        "cos = inner/norms\n",
        "rad = np.arccos(np.clip(cos,-1.0,1.0))\n",
        "deg = np.rad2deg(rad)\n",
        "deg"
      ],
      "metadata": {
        "colab": {
          "base_uri": "https://localhost:8080/",
          "height": 0
        },
        "id": "qs5Zv9bG7sHH",
        "outputId": "6f1ecade-32f3-4d12-9d15-13b03f8146af"
      },
      "execution_count": 39,
      "outputs": [
        {
          "output_type": "execute_result",
          "data": {
            "text/plain": [
              "39.733704363553585"
            ]
          },
          "metadata": {},
          "execution_count": 39
        }
      ]
    }
  ]
}