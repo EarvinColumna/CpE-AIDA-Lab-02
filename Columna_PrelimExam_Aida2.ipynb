{
  "nbformat": 4,
  "nbformat_minor": 0,
  "metadata": {
    "colab": {
      "provenance": [],
      "authorship_tag": "ABX9TyOL/U1tLWkXbvX086ovK0aE",
      "include_colab_link": true
    },
    "kernelspec": {
      "name": "python3",
      "display_name": "Python 3"
    },
    "language_info": {
      "name": "python"
    }
  },
  "cells": [
    {
      "cell_type": "markdown",
      "metadata": {
        "id": "view-in-github",
        "colab_type": "text"
      },
      "source": [
        "<a href=\"https://colab.research.google.com/github/EarvinColumna/CpE-AIDA-Lab-02/blob/main/Columna_PrelimExam_Aida2.ipynb\" target=\"_parent\"><img src=\"https://colab.research.google.com/assets/colab-badge.svg\" alt=\"Open In Colab\"/></a>"
      ]
    },
    {
      "cell_type": "markdown",
      "source": [
        "Using google collaboratory. Create a function that simulates coin flips repeated n times. Make the function a generator with a parameter n for the number of coin flips. Use np.random.randint to simulate a coin flip."
      ],
      "metadata": {
        "id": "mjs6mlhUELjg"
      }
    },
    {
      "cell_type": "code",
      "execution_count": 17,
      "metadata": {
        "colab": {
          "base_uri": "https://localhost:8080/",
          "height": 0
        },
        "id": "0cJQkzQKCqU-",
        "outputId": "e2e5b8c3-9b07-4ad8-816c-69bb41d19756"
      },
      "outputs": [
        {
          "output_type": "stream",
          "name": "stdout",
          "text": [
            "Heads Heads Tails\n"
          ]
        }
      ],
      "source": [
        "import random\n",
        "def cointoss():\n",
        "    rand_i = random.randint(0, 1)\n",
        "    Results = [\"Heads\", \"Tails\"]\n",
        "    return Results[rand_i]\n",
        "# Toss a coin 3 times\n",
        "T1 = cointoss()\n",
        "T2 = cointoss()\n",
        "T3 = cointoss()\n",
        "print(T1, T2, T3)"
      ]
    },
    {
      "cell_type": "code",
      "source": [
        "import random\n",
        "def cointoss():\n",
        "    rand_i = random.randint(0, 1)\n",
        "    Results = [\"Heads\", \"Tails\"]\n",
        "    return Results[rand_i]\n",
        "# Toss a coin 3 times\n",
        "T1 = cointoss()\n",
        "T2 = cointoss()\n",
        "T3 = cointoss()\n",
        "print(T1, T2, T3)"
      ],
      "metadata": {
        "colab": {
          "base_uri": "https://localhost:8080/",
          "height": 0
        },
        "id": "x2qW9jYYD15t",
        "outputId": "f7bf702b-2d43-4c11-8204-a49f78232388"
      },
      "execution_count": 27,
      "outputs": [
        {
          "output_type": "stream",
          "name": "stdout",
          "text": [
            "Tails Heads Heads\n"
          ]
        }
      ]
    }
  ]
}