{
  "nbformat": 4,
  "nbformat_minor": 0,
  "metadata": {
    "colab": {
      "provenance": [],
      "include_colab_link": true
    },
    "kernelspec": {
      "name": "python3",
      "display_name": "Python 3"
    },
    "language_info": {
      "name": "python"
    }
  },
  "cells": [
    {
      "cell_type": "markdown",
      "metadata": {
        "id": "view-in-github",
        "colab_type": "text"
      },
      "source": [
        "<a href=\"https://colab.research.google.com/github/EarvinColumna/CpE-AIDA-Lab-02/blob/main/Columna_Lab1_fund_aiml.ipynb\" target=\"_parent\"><img src=\"https://colab.research.google.com/assets/colab-badge.svg\" alt=\"Open In Colab\"/></a>"
      ]
    },
    {
      "cell_type": "markdown",
      "source": [
        "Topic 1: Software Engineering Review\n",
        "\n",
        "credits to:\n",
        "\n",
        "©D.J. Lopez | 2021 | Fundamentals of Machine Learning\n",
        "\n",
        "Data Science or Machine Learning is more than math or business application. It is also important to remember that AI, ML, or DS are being integrated into industry and companies for product delivery. So it is important to keep code clean, manage your files properly, and also assure readability for your projects and their codes. This module is dedicated to reviewing the concepts of software engineering and integrating their concepts in Machine Learning programming. For this notebook we will be covering:\n",
        "\n",
        "    Modular Programming\n",
        "    Object-oriented Programming Concepts\n",
        "    Documentation\n",
        "    Version Control\n"
      ],
      "metadata": {
        "id": "quYBojuyUVFV"
      }
    },
    {
      "cell_type": "markdown",
      "source": [
        "# 1. Modular Programming\n",
        "Creating readable and understandable code is needed in the industry or any project that you might do. It does not just benefit yourself in understanding your code or project but also other teams, users, and even future researchers. In this module, we are going to discuss how to format your projects and codes for readability and understandability. One of the techniques to achieve this is through modular programming.\n",
        "\n",
        "The idea of modular programming is to make your code granular for reusability. It does not only makes your code simpler but also optimal. The goal of making your code more efficient does not only look into visual representation but also its optimization."
      ],
      "metadata": {
        "id": "wYIgi688VvKF"
      }
    },
    {
      "cell_type": "markdown",
      "source": [
        "## 1.1 Refactoring\n",
        "\n",
        "Refactoring your code means restructuring your code without changing the expected output. We consider code refactoring while optimizing our code in terms of naming or even in optimizing methods. The first activity of refactoring that we will do or consider is renaming and the other is \"functionizing\" your code. "
      ],
      "metadata": {
        "id": "i4uxHUdsWnd0"
      }
    },
    {
      "cell_type": "markdown",
      "source": [
        "### *Renaming*"
      ],
      "metadata": {
        "id": "oAZGVuuVWqf6"
      }
    },
    {
      "cell_type": "markdown",
      "source": [
        "You might think discussing this topic must be pointless or too simplistic but it is actually one of the most frequent mistakes that data scientists, professors, or researchers usually do. Naming variables and functions properly will bring clarity to understanding the code."
      ],
      "metadata": {
        "id": "as4kN-PIW3lO"
      }
    },
    {
      "cell_type": "code",
      "source": [
        "'''\n",
        "    CASE 1: Setting the class grades.\n",
        "\n",
        "    The case for this section would be computing for the grades of a \n",
        "    certain class. For the next cells will be looking in how can we create a \n",
        "    class analytics implementation.\n",
        "'''\n",
        "### Example of bad naming in module import nicknames.\n",
        "### Nicknames should be short and still relevant to the module.\n",
        "\n",
        "# import pandas as food_panda \n",
        "## bad, since not representative and long\n",
        "#import pandas as nd \n",
        "##bad, although short it is not representative\n",
        "import pandas as pd \n",
        "##good, aside form community acceptance it is short and representative\n",
        "\n",
        "ln = [\"Ingles\", \"Español\", \"Cruz\", \"Jones\"]\n",
        "# bad, since \"ln\" is ambiguous.\n",
        "\n",
        "names = [\"Ingles\", \"Español\", \"Cruz\", \"Jones\"] \n",
        "# good, since descriptive\n",
        "\n",
        "lnames = [\"Ingles\", \"Español\", \"Cruz\", \"Jones\"]\n",
        "# better, more specific that itis about last names\n",
        "\n",
        "last_names_of_the_class = [\"Ingles\", \"Español\", \"Cruz\", \"Jones\"] \n",
        "# bad, too long\n"
      ],
      "metadata": {
        "id": "VOHI31XdXRZf"
      },
      "execution_count": null,
      "outputs": []
    },
    {
      "cell_type": "markdown",
      "source": [
        "### Task 1: Setting the Class Grades\n",
        "1. Create variable declarations for:\n",
        "        - Last Names\n",
        "        - First Names\n",
        "        - Grades for Prelims\n",
        "        - Grades for Midterms\n",
        "        - Grades for Finals \n",
        "2. Create a DataFrame (Pandas) for consolidating the data from Task 1.1"
      ],
      "metadata": {
        "id": "zci_rqPbXn9v"
      }
    },
    {
      "cell_type": "code",
      "source": [
        "import numpy as np\n",
        "import pandas as pd\n",
        "from google.colab import files\n",
        "uploaded = files.upload()"
      ],
      "metadata": {
        "colab": {
          "resources": {
            "http://localhost:8080/nbextensions/google.colab/files.js": {
              "data": "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",
              "ok": true,
              "headers": [
                [
                  "content-type",
                  "application/javascript"
                ]
              ],
              "status": 200,
              "status_text": ""
            }
          },
          "base_uri": "https://localhost:8080/",
          "height": 91
        },
        "id": "2rHpVOQUchiN",
        "outputId": "090c3705-ff98-4e3e-a6aa-ce6db8ff103d"
      },
      "execution_count": null,
      "outputs": [
        {
          "output_type": "display_data",
          "data": {
            "text/plain": [
              "<IPython.core.display.HTML object>"
            ],
            "text/html": [
              "\n",
              "     <input type=\"file\" id=\"files-116f3876-6b02-488d-9040-bbbb6c496df3\" name=\"files[]\" multiple disabled\n",
              "        style=\"border:none\" />\n",
              "     <output id=\"result-116f3876-6b02-488d-9040-bbbb6c496df3\">\n",
              "      Upload widget is only available when the cell has been executed in the\n",
              "      current browser session. Please rerun this cell to enable.\n",
              "      </output>\n",
              "      <script src=\"/nbextensions/google.colab/files.js\"></script> "
            ]
          },
          "metadata": {}
        },
        {
          "output_type": "stream",
          "name": "stdout",
          "text": [
            "Saving class_grades-1.xlsx to class_grades-1.xlsx\n"
          ]
        }
      ]
    },
    {
      "cell_type": "code",
      "source": [
        "cg = pd.read_excel(uploaded['class_grades-1.xlsx'])\n",
        "print (cg)"
      ],
      "metadata": {
        "colab": {
          "base_uri": "https://localhost:8080/"
        },
        "id": "iqomuglheS3Z",
        "outputId": "d37aa487-f85c-4e3d-bb9a-7ad636cf4029"
      },
      "execution_count": null,
      "outputs": [
        {
          "output_type": "stream",
          "name": "stdout",
          "text": [
            "       name  id  prelim_grades  midterm_grades  final_grades\n",
            "0     alpha   1      94.960000          95.260       92.2192\n",
            "1     aleph   2      94.960000          95.260       92.7792\n",
            "2      beta   3      78.173333          94.360       84.3200\n",
            "3      beth   4      78.173333          81.372       84.6400\n",
            "4    cuprum   5      94.960000          95.260       92.2192\n",
            "5     delta   6      84.826667          92.485       83.5792\n",
            "6       eta   7      93.980000          97.300       95.6528\n",
            "7   epsilon   8      60.788200          68.000       83.8672\n",
            "8   foxtrot   9      94.306667          82.000       84.1472\n",
            "9     gamma  10      96.406667          82.000       84.1472\n",
            "10     geld  11      86.926667          92.485       82.7792\n",
            "11    horus  12      78.173333          94.360       84.3200\n",
            "12     iota  13      94.306667          82.000       84.1472\n",
            "13     ixus  14      78.173333          94.360       84.3200\n",
            "14  jakarta  15      84.826667          92.485       82.7792\n",
            "15    koppa  16      84.826667          87.685       83.8672\n",
            "16   lambda  17      93.980000          97.300       95.6528\n",
            "17       mu  18      79.806667          83.500       81.2792\n",
            "18       nu  19      75.406667          82.000       82.5472\n",
            "19     neta  20      69.314000          87.685       50.3360\n",
            "20  omicron  21      93.980000          97.300       95.6528\n",
            "21    omega  22      79.806667          83.500       81.2792\n",
            "22  phalanx  23      84.826667          92.485       82.7792\n",
            "23     peta  24      94.960000          95.260       92.2192\n",
            "24       pi  25      79.806667          87.460       81.2792\n",
            "25    yotta  26      93.980000          97.300       94.8528\n",
            "26     zeta  27      86.626667          84.850       83.8672\n"
          ]
        }
      ]
    },
    {
      "cell_type": "markdown",
      "source": [
        "CODE HERE ###"
      ],
      "metadata": {
        "id": "75kXW5J_Xrcj"
      }
    },
    {
      "cell_type": "markdown",
      "source": [
        "**Code Reusability**\n",
        "\n",
        "Just like in any writing we want to reduce redundancies in our content. Just like following the rules of brevity we also consider that in creating cleaner code. One way of applying brevity to code is code reusability wherein you refrain from creating code that you repeat in encoding. This is where the use of functions will be most used. Consider the following code below."
      ],
      "metadata": {
        "id": "vjujlcyHYC-s"
      }
    },
    {
      "cell_type": "code",
      "source": [
        "'''\n",
        "    CASE 2: Computing grades.\n",
        "\n",
        "    For this cell we are going to look into creating functions for the class.\n",
        "    This includes computing for their grades and some classroom management\n",
        "    routines.\n",
        "'''\n",
        "### Consider this procedural programming script\n",
        "gs_1 = [89.4, 78.2, 88.0, 28.5, 67.3]\n",
        "# Get average grades of the class\n",
        "class_g = 0\n",
        "for g in gs_1:\n",
        "  class_g += g\n",
        "cmean = class_g/len(gs_1)\n",
        "print(cmean)"
      ],
      "metadata": {
        "colab": {
          "base_uri": "https://localhost:8080/"
        },
        "id": "BDjzFW0vYXrZ",
        "outputId": "b606ffab-602c-491e-c893-44610c2446b6"
      },
      "execution_count": null,
      "outputs": [
        {
          "output_type": "stream",
          "name": "stdout",
          "text": [
            "70.28\n"
          ]
        }
      ]
    },
    {
      "cell_type": "code",
      "source": [
        "### Now let's say you want to reuse the code above for a different class\n",
        "### you might just copy and paste in like the code below and change some \n",
        "### variable naming\n",
        "\n",
        "gs_2 = [99.4, 64.5, 87.2, 68.5, 57.]\n",
        "# Get average grades of the class\n",
        "class_g = 0\n",
        "for g in gs_2:\n",
        "  class_g += g\n",
        "cmean = class_g/len(gs_2)\n",
        "print(cmean)"
      ],
      "metadata": {
        "id": "sH8Mb-xfYjFV"
      },
      "execution_count": null,
      "outputs": []
    },
    {
      "cell_type": "code",
      "source": [
        "### That works but if you keep doing that for production, it would just look\n",
        "### like spaghetti code. Instead, if you are repeating code, consider creating\n",
        "### a function.\n",
        "\n",
        "def average(grades):\n",
        "  grades_class = 0\n",
        "  for g in grades:\n",
        "    grades_class += g\n",
        "  avg = grades_class/len(grades)\n",
        "  return avg"
      ],
      "metadata": {
        "id": "MJpuR9hOYom_"
      },
      "execution_count": null,
      "outputs": []
    },
    {
      "cell_type": "code",
      "source": [
        "### The code above would be reusable but it is not easy to read. We need to \n",
        "### enforce the code refactoring for renaming not just the variables but also\n",
        "### the functions we are creating. So if we would refactor the 'average' \n",
        "### Function earlier it could be:\n",
        "\n",
        "def get_class_ave(arr):\n",
        "  class_grades = 0\n",
        "  for grade in arr:\n",
        "    class_grades += grade\n",
        "  class_avg = class_grades/len(arr)\n",
        "  return class_avg"
      ],
      "metadata": {
        "id": "6zLavfvEYthy"
      },
      "execution_count": null,
      "outputs": []
    },
    {
      "cell_type": "markdown",
      "source": [
        "Task 2: Getting Class Statistics\n",
        "\n",
        "    Create a function named get_grades() for computing the semestral grade of each student:\n",
        "\n",
        "    inputs: DataFrame of a class grade sheet.\n",
        "\n",
        "    outpus: DataFrame showing:\n",
        "        The prelim, midterms, and finals grades of each student\n",
        "        The semestral grade of each student\n",
        "\n",
        "    Create a function named get_class_stats().\n",
        "\n",
        "    inputs: DataFrame from get_grades().\n",
        "\n",
        "    outpus: DataFrame showing:\n",
        "        The lowest and highest prelim, midterm, finals, and semestral grades\n",
        "        the mean, median, mode, and standard deviation of the grades\n"
      ],
      "metadata": {
        "id": "vhDrml2AY5i-"
      }
    },
    {
      "cell_type": "code",
      "source": [
        "def get_grades(cg):\n",
        " cg['Semestral Grades']= (cg.iloc[:,2:5].sum(axis=1))/3\n",
        " return cg\n",
        "print(get_grades(cg))"
      ],
      "metadata": {
        "colab": {
          "base_uri": "https://localhost:8080/"
        },
        "id": "ttisgG4QffkS",
        "outputId": "f6cd3b6a-cd73-4f07-8031-44fd4accbfb3"
      },
      "execution_count": null,
      "outputs": [
        {
          "output_type": "stream",
          "name": "stdout",
          "text": [
            "       name  id  prelim_grades  midterm_grades  final_grades  Semestral Grades\n",
            "0     alpha   1      94.960000          95.260       92.2192         94.146400\n",
            "1     aleph   2      94.960000          95.260       92.7792         94.333067\n",
            "2      beta   3      78.173333          94.360       84.3200         85.617778\n",
            "3      beth   4      78.173333          81.372       84.6400         81.395111\n",
            "4    cuprum   5      94.960000          95.260       92.2192         94.146400\n",
            "5     delta   6      84.826667          92.485       83.5792         86.963622\n",
            "6       eta   7      93.980000          97.300       95.6528         95.644267\n",
            "7   epsilon   8      60.788200          68.000       83.8672         70.885133\n",
            "8   foxtrot   9      94.306667          82.000       84.1472         86.817956\n",
            "9     gamma  10      96.406667          82.000       84.1472         87.517956\n",
            "10     geld  11      86.926667          92.485       82.7792         87.396956\n",
            "11    horus  12      78.173333          94.360       84.3200         85.617778\n",
            "12     iota  13      94.306667          82.000       84.1472         86.817956\n",
            "13     ixus  14      78.173333          94.360       84.3200         85.617778\n",
            "14  jakarta  15      84.826667          92.485       82.7792         86.696956\n",
            "15    koppa  16      84.826667          87.685       83.8672         85.459622\n",
            "16   lambda  17      93.980000          97.300       95.6528         95.644267\n",
            "17       mu  18      79.806667          83.500       81.2792         81.528622\n",
            "18       nu  19      75.406667          82.000       82.5472         79.984622\n",
            "19     neta  20      69.314000          87.685       50.3360         69.111667\n",
            "20  omicron  21      93.980000          97.300       95.6528         95.644267\n",
            "21    omega  22      79.806667          83.500       81.2792         81.528622\n",
            "22  phalanx  23      84.826667          92.485       82.7792         86.696956\n",
            "23     peta  24      94.960000          95.260       92.2192         94.146400\n",
            "24       pi  25      79.806667          87.460       81.2792         82.848622\n",
            "25    yotta  26      93.980000          97.300       94.8528         95.377600\n",
            "26     zeta  27      86.626667          84.850       83.8672         85.114622\n"
          ]
        }
      ]
    },
    {
      "cell_type": "code",
      "source": [
        "def get_class_stats(cg):\n",
        "    get_grades(cg)\n",
        "\n",
        "    gs_1 = (cg['prelim_grades'].tolist())\n",
        "    print (gs_1)\n",
        "    column = cg['prelim_grades']\n",
        "    highest = column.max()\n",
        "    lowest = column.min()\n",
        "    print('Highest Prelim Grade:',highest)\n",
        "    print('Lowest Prelim Grade:',lowest)\n",
        "    print(\" \")\n",
        "\n",
        "    gs_2 = (cg['midterm_grades'].tolist())\n",
        "    print (gs_2)\n",
        "    column = cg['midterm_grades']\n",
        "    highest = column.max()\n",
        "    lowest = column.min()\n",
        "    print('Highest Midterm Grade:',highest)\n",
        "    print('Lowest Midterm Grade:',lowest)\n",
        "    print(\" \")\n",
        "\n",
        "    gs_3 = (cg['final_grades'].tolist())\n",
        "    print (gs_3)\n",
        "    column = cg['final_grades']\n",
        "    highest = column.max()\n",
        "    lowest = column.min()\n",
        "    print('Highest Final Grade:',highest)\n",
        "    print('Lowest Final Grade:',lowest)\n",
        "    print(\" \")\n",
        "\n",
        "    gs_4 = (cg['Semestral Grades'].tolist())\n",
        "    print (gs_4)\n",
        "    column = cg['Semestral Grades']\n",
        "    highest = column.max()\n",
        "    lowest = column.min()\n",
        "    print('Highest Semestral Grade:',highest)\n",
        "    print('Lowest Semestral Grade:',lowest)\n",
        "    print(\" \")\n",
        "\n",
        "    print(\"Prelims (Mean):\")\n",
        "    column = cg[\"prelim_grades\"]\n",
        "    mean_value = column.mean()\n",
        "    print(mean_value)\n",
        "  \n",
        "    print(\"Midterms (Mean):\", mean_value)\n",
        "    column = cg[\"midterm_grades\"]\n",
        "    mean_value = column.mean()\n",
        "\n",
        "\n",
        "    print(\"Finals (Mean):\", mean_value)\n",
        "    column = cg[\"final_grades\"]\n",
        "    mean_value = column.mean()\n",
        "\n",
        "    print(\"Semestral (Mean):\", mean_value)\n",
        "    column = cg[\"Semestral Grades\"]\n",
        "    mean_value = column.mean()\n",
        "    print(\"\")\n",
        "\n",
        "    print(\"Prelims (Median):\")\n",
        "    column = cg[\"prelim_grades\"]\n",
        "    median_value = column.median()\n",
        "    print(median_value)\n",
        "\n",
        "    print(\"Midterms (Median):\", median_value)\n",
        "    column = cg[\"midterm_grades\"]\n",
        "    median_value = column.median()\n",
        "\n",
        "    print(\"Finals (Median):\", median_value)\n",
        "    column = cg[\"final_grades\"]\n",
        "    median_value = column.median()\n",
        "\n",
        "    print(\"Semestral (Median):\", median_value)\n",
        "    column = cg[\"Semestral Grades\"]\n",
        "    median_value = column.median()\n",
        "    print(\"\")\n",
        "\n",
        "    print(\"Prelims (Mode):\")\n",
        "    column = cg[\"prelim_grades\"]\n",
        "    mode_value = column.mode()\n",
        "    print(mode_value)\n",
        "    print(\"\")\n",
        "\n",
        "    print(\"Midterms (Mode):\", mode_value)\n",
        "    column = cg[\"midterm_grades\"]\n",
        "    mode_value = column.mode()\n",
        "    print(\"\")\n",
        "\n",
        "    print(\"Finals (Mode):\", mode_value)\n",
        "    column = cg[\"final_grades\"]\n",
        "    mode_value = column.mode()\n",
        "    print(\"\")\n",
        "\n",
        "    print(\"Semestral (Mode):\", mode_value)\n",
        "    column = cg[\"Semestral Grades\"]\n",
        "    mode_value = column.mode()\n",
        "    print(\"\")\n",
        "\n",
        "    print(\"Prelims (Standard Deviation):\")\n",
        "    column = cg[\"prelim_grades\"]\n",
        "    standdev_value = column.std()\n",
        "    print(standdev_value)\n",
        "    print(\"\")\n",
        "\n",
        "    print(\"Midterms (Standard Deviation):\", standdev_value)\n",
        "    column = cg[\"midterm_grades\"]\n",
        "    standdev_value = column.std()\n",
        "    print(\"\")\n",
        "\n",
        "    print(\"Finals (Standard Deviation):\",standdev_value)\n",
        "    column = cg[\"final_grades\"]\n",
        "    standdev_value = column.std()\n",
        "    print(\"\")\n",
        "    \n",
        "    print(\"Semestral (Standard Deviation):\", standdev_value)\n",
        "    column = cg[\"Semestral Grades\"]\n",
        "    standdev_value = column.std()\n",
        "    \n",
        "get_class_stats(cg)\n",
        "  "
      ],
      "metadata": {
        "id": "3UkT-kJGY-24",
        "colab": {
          "base_uri": "https://localhost:8080/"
        },
        "outputId": "69042a1e-9029-4e52-c405-f0f71c5296cf"
      },
      "execution_count": null,
      "outputs": [
        {
          "output_type": "stream",
          "name": "stdout",
          "text": [
            "[94.96, 94.96, 78.1733333, 78.1733333, 94.96, 84.8266667, 93.98, 60.7882, 94.3066667, 96.4066667, 86.9266667, 78.1733333, 94.3066667, 78.1733333, 84.8266667, 84.8266667, 93.98, 79.8066667, 75.4066667, 69.314, 93.98, 79.8066667, 84.8266667, 94.96, 79.8066667, 93.98, 86.6266667]\n",
            "Highest Prelim Grade: 96.4066667\n",
            "Lowest Prelim Grade: 60.7882\n",
            " \n",
            "[95.26, 95.26, 94.36, 81.372, 95.26, 92.485, 97.3, 68.0, 82.0, 82.0, 92.485, 94.36, 82.0, 94.36, 92.485, 87.685, 97.3, 83.5, 82.0, 87.685, 97.3, 83.5, 92.485, 95.26, 87.46, 97.3, 84.85]\n",
            "Highest Midterm Grade: 97.3\n",
            "Lowest Midterm Grade: 68.0\n",
            " \n",
            "[92.2192, 92.7792, 84.32, 84.64, 92.2192, 83.5792, 95.6528, 83.8672, 84.1472, 84.1472, 82.7792, 84.32, 84.1472, 84.32, 82.7792, 83.8672, 95.6528, 81.2792, 82.5472, 50.336, 95.6528, 81.2792, 82.7792, 92.2192, 81.2792, 94.8528, 83.8672]\n",
            "Highest Final Grade: 95.6528\n",
            "Lowest Final Grade: 50.336\n",
            " \n",
            "[94.14640000000001, 94.33306666666665, 85.61777776666666, 81.3951111, 94.14640000000001, 86.96362223333334, 95.64426666666667, 70.88513333333334, 86.81795556666667, 87.51795556666667, 87.39695556666668, 85.61777776666666, 86.81795556666667, 85.61777776666666, 86.69695556666666, 85.45962223333333, 95.64426666666667, 81.52862223333334, 79.98462223333334, 69.11166666666666, 95.64426666666667, 81.52862223333334, 86.69695556666666, 94.14640000000001, 82.84862223333333, 95.37759999999999, 85.11462223333334]\n",
            "Highest Semestral Grade: 95.64426666666667\n",
            "Lowest Semestral Grade: 69.11166666666666\n",
            " \n",
            "Prelims (Mean):\n",
            "85.60230371481481\n",
            "Midterms (Mean): 85.60230371481481\n",
            "Finals (Mean): 89.456\n",
            "Semestral (Mean): 85.2418074074074\n",
            "\n",
            "Prelims (Median):\n",
            "84.8266667\n",
            "Midterms (Median): 84.8266667\n",
            "Finals (Median): 92.485\n",
            "Semestral (Median): 84.1472\n",
            "\n",
            "Prelims (Mode):\n",
            "0    78.173333\n",
            "1    84.826667\n",
            "2    93.980000\n",
            "3    94.960000\n",
            "dtype: float64\n",
            "\n",
            "Midterms (Mode): 0    78.173333\n",
            "1    84.826667\n",
            "2    93.980000\n",
            "3    94.960000\n",
            "dtype: float64\n",
            "\n",
            "Finals (Mode): 0    82.000\n",
            "1    92.485\n",
            "2    95.260\n",
            "3    97.300\n",
            "dtype: float64\n",
            "\n",
            "Semestral (Mode): 0    81.2792\n",
            "1    82.7792\n",
            "2    83.8672\n",
            "3    84.1472\n",
            "4    84.3200\n",
            "5    92.2192\n",
            "6    95.6528\n",
            "dtype: float64\n",
            "\n",
            "Prelims (Standard Deviation):\n",
            "9.221653370050293\n",
            "\n",
            "Midterms (Standard Deviation): 9.221653370050293\n",
            "\n",
            "Finals (Standard Deviation): 7.179577773100588\n",
            "\n",
            "Semestral (Standard Deviation): 8.607503258737331\n"
          ]
        }
      ]
    },
    {
      "cell_type": "markdown",
      "source": [
        "## 1.2 Code Optimization\n",
        "\n",
        "When we consider your code to be part of production or for customer delivery we must consider that they are not laggy nor too space-consuming for devices. This is a common practice in data science and machine learning wherein training algorithms take up resources from computers or considering the space a model consumes at your workspace or your customer’s device."
      ],
      "metadata": {
        "id": "4jToyOBhZFh1"
      }
    },
    {
      "cell_type": "markdown",
      "source": [
        "Space Complexity\n",
        "\n",
        "This would specifically refer to your choice of data structures. This is a job for reviewing data structures and algorithms for space complexity. Although in Python for AI we are looking into more data structures like matrices and data frames."
      ],
      "metadata": {
        "id": "kGMjyd8oZL5q"
      }
    },
    {
      "cell_type": "code",
      "source": [
        "'''\n",
        "    CASE 3: Class management.\n",
        "\n",
        "    For this cell we are going to look into optimizing functions for the class.\n",
        "    This includes finding unique data and similar data amnong class materials.\n",
        "'''\n",
        "## The following code will optimize how to efficiently store data into memory\n",
        "enrollees_2016_2020 = ['15022', '18302', '8845', '9203', '10035']\n",
        "enrollees_2016_2020 = [15022, 18302, 8845, 9203, 10035]"
      ],
      "metadata": {
        "id": "o9MAuHJXZQg1"
      },
      "execution_count": null,
      "outputs": []
    },
    {
      "cell_type": "code",
      "source": [
        "img1 = [[125.4543, 254.0001], [64.2132, 84.5336]]\n",
        "img1"
      ],
      "metadata": {
        "id": "6PoFO7tUZUS6",
        "colab": {
          "base_uri": "https://localhost:8080/"
        },
        "outputId": "ad48f3c6-1910-4886-a4e2-6f176ee5cd4e"
      },
      "execution_count": null,
      "outputs": [
        {
          "output_type": "execute_result",
          "data": {
            "text/plain": [
              "[[125.4543, 254.0001], [64.2132, 84.5336]]"
            ]
          },
          "metadata": {},
          "execution_count": 24
        }
      ]
    },
    {
      "cell_type": "code",
      "source": [
        "import numpy as np\n",
        "img1_vector = np.array(img1)\n",
        "img1_vector"
      ],
      "metadata": {
        "id": "VIezBpLvZYNM",
        "colab": {
          "base_uri": "https://localhost:8080/"
        },
        "outputId": "fdabd268-e11c-4186-e6dd-dbd4ffe63653"
      },
      "execution_count": null,
      "outputs": [
        {
          "output_type": "execute_result",
          "data": {
            "text/plain": [
              "array([[125.4543, 254.0001],\n",
              "       [ 64.2132,  84.5336]])"
            ]
          },
          "metadata": {},
          "execution_count": 25
        }
      ]
    },
    {
      "cell_type": "code",
      "source": [
        "img1_quantized = np.array(img1_vector, dtype='int32')\n",
        "img1_quantized"
      ],
      "metadata": {
        "id": "mMqS-4TSZbn4",
        "colab": {
          "base_uri": "https://localhost:8080/"
        },
        "outputId": "5b777a95-5adf-49b8-ab5a-47daffd3d1b3"
      },
      "execution_count": null,
      "outputs": [
        {
          "output_type": "execute_result",
          "data": {
            "text/plain": [
              "array([[125, 254],\n",
              "       [ 64,  84]], dtype=int32)"
            ]
          },
          "metadata": {},
          "execution_count": 26
        }
      ]
    },
    {
      "cell_type": "markdown",
      "source": [
        "Time Complexity\n",
        "\n",
        "If you would recall back in your data structures and algorithms this pertains to the Big-O notation. However, in this notebook, we’ll look into specific and intuitive samples of time complexity. We are going to look at specific AI use such as the concept of vectorization."
      ],
      "metadata": {
        "id": "fSwXxa3oZg8G"
      }
    },
    {
      "cell_type": "code",
      "source": [
        "## The following code wil try to optimize getting unique elements from the given\n",
        "## list of class codes\n",
        "\n",
        "curr_2018_courses = ['220', '270', '318', '450', '101', '768', '223L', '223',\n",
        "                     '727', '418', '673', '672', '450', '124', '771', '654',\n",
        "                     '231', '768', '768', '224', '654', '673']\n",
        "### print an array that shows only the unique elements\n",
        "### Code from Geeks for Geeks\n",
        "def unique(arr):\n",
        "     # initialize a null list\n",
        "    unique_list = []\n",
        "     \n",
        "    # traverse for all elements\n",
        "    for item in arr:\n",
        "        # check if exists in unique_list or not\n",
        "        if item not in unique_list:\n",
        "            unique_list.append(item)\n",
        "    return sorted(unique_list)\n",
        "\n",
        "unique(curr_2018_courses)  "
      ],
      "metadata": {
        "id": "V7tRLw7DZoIV",
        "colab": {
          "base_uri": "https://localhost:8080/"
        },
        "outputId": "8bc5348d-c2a5-477a-ae1b-c8e75f440dd4"
      },
      "execution_count": null,
      "outputs": [
        {
          "output_type": "execute_result",
          "data": {
            "text/plain": [
              "['101',\n",
              " '124',\n",
              " '220',\n",
              " '223',\n",
              " '223L',\n",
              " '224',\n",
              " '231',\n",
              " '270',\n",
              " '318',\n",
              " '418',\n",
              " '450',\n",
              " '654',\n",
              " '672',\n",
              " '673',\n",
              " '727',\n",
              " '768',\n",
              " '771']"
            ]
          },
          "metadata": {},
          "execution_count": 27
        }
      ]
    },
    {
      "cell_type": "code",
      "source": [
        "### Optimized way\n",
        "sorted(list(set(curr_2018_courses)))"
      ],
      "metadata": {
        "id": "Nln0BouRZr7e",
        "colab": {
          "base_uri": "https://localhost:8080/"
        },
        "outputId": "96e21e8d-540e-45ab-f6c2-74c0138ea00e"
      },
      "execution_count": null,
      "outputs": [
        {
          "output_type": "execute_result",
          "data": {
            "text/plain": [
              "['101',\n",
              " '124',\n",
              " '220',\n",
              " '223',\n",
              " '223L',\n",
              " '224',\n",
              " '231',\n",
              " '270',\n",
              " '318',\n",
              " '418',\n",
              " '450',\n",
              " '654',\n",
              " '672',\n",
              " '673',\n",
              " '727',\n",
              " '768',\n",
              " '771']"
            ]
          },
          "metadata": {},
          "execution_count": 28
        }
      ]
    },
    {
      "cell_type": "code",
      "source": [
        "### Optimizing Functions\n",
        "import math\n",
        "def get_floor_binlog(num):\n",
        "  return math.floor(math.log2(num))\n",
        "get_floor_binlog(31)"
      ],
      "metadata": {
        "id": "0ttO-hQrZtMw",
        "colab": {
          "base_uri": "https://localhost:8080/"
        },
        "outputId": "e9b3c033-953a-461f-c259-d22eddf49f65"
      },
      "execution_count": null,
      "outputs": [
        {
          "output_type": "execute_result",
          "data": {
            "text/plain": [
              "4"
            ]
          },
          "metadata": {},
          "execution_count": 29
        }
      ]
    },
    {
      "cell_type": "code",
      "source": [
        "### Lambda Functions\n",
        "binlog = lambda num: math.floor(math.log2(num))\n",
        "binlog(31)"
      ],
      "metadata": {
        "id": "jpv2BnMPZxQd",
        "colab": {
          "base_uri": "https://localhost:8080/"
        },
        "outputId": "99b97058-5bdf-4d0d-c7fd-21f81a940fc7"
      },
      "execution_count": null,
      "outputs": [
        {
          "output_type": "execute_result",
          "data": {
            "text/plain": [
              "4"
            ]
          },
          "metadata": {},
          "execution_count": 30
        }
      ]
    },
    {
      "cell_type": "code",
      "source": [
        "### Optimizing Booleans\n",
        "val = 1\n",
        "if val%2 == 0:\n",
        "  val = 1\n",
        "else:\n",
        "  val = 2"
      ],
      "metadata": {
        "id": "2tXzr5URZ0tr"
      },
      "execution_count": null,
      "outputs": []
    },
    {
      "cell_type": "code",
      "source": [
        "### Singe-line Boolean Statemets\n",
        "val = 1\n",
        "val = 1 if val%2 == 0 else 2\n",
        "val"
      ],
      "metadata": {
        "id": "vt83WYbXZ7aR",
        "colab": {
          "base_uri": "https://localhost:8080/"
        },
        "outputId": "591f5b47-a796-4793-e1fc-4ae520a20759"
      },
      "execution_count": null,
      "outputs": [
        {
          "output_type": "execute_result",
          "data": {
            "text/plain": [
              "2"
            ]
          },
          "metadata": {},
          "execution_count": 32
        }
      ]
    },
    {
      "cell_type": "code",
      "source": [
        "### Optimizing Iterations\n",
        "bits = [1,0,1,1,1]\n",
        "not_bits = []\n",
        "for bit in bits:\n",
        "  not_bits.append(int(not(bit)))\n",
        "print(not_bits)"
      ],
      "metadata": {
        "id": "G9ZEm3cgaAIE",
        "colab": {
          "base_uri": "https://localhost:8080/"
        },
        "outputId": "513b701b-d16d-4375-959d-e217597ec583"
      },
      "execution_count": null,
      "outputs": [
        {
          "output_type": "stream",
          "name": "stdout",
          "text": [
            "[0, 1, 0, 0, 0]\n"
          ]
        }
      ]
    },
    {
      "cell_type": "code",
      "source": [
        "### List Comprehensions\n",
        "bits = [1,0,1,0,1]\n",
        "not_bits = [int(not(bit)) for bit in bits]\n",
        "not_bits"
      ],
      "metadata": {
        "id": "i_lzobbRaDqz",
        "colab": {
          "base_uri": "https://localhost:8080/"
        },
        "outputId": "b25a71ee-887a-463b-d205-152aef479b40"
      },
      "execution_count": null,
      "outputs": [
        {
          "output_type": "execute_result",
          "data": {
            "text/plain": [
              "[0, 1, 0, 1, 0]"
            ]
          },
          "metadata": {},
          "execution_count": 34
        }
      ]
    },
    {
      "cell_type": "code",
      "source": [
        "### A Networks Example\n",
        "def get_floor_binlog(num):\n",
        "  return math.floor(math.log2(num))\n",
        "def get_subnet_bits(user_count):\n",
        "  \n",
        "  floor_bin = get_floor_binlog(user_count) # gets the floor bits from \n",
        "                                           # the user count\n",
        "  if floor_bin == 0: # assign 1 if bit count is 0.\n",
        "    floor_bin = 1\n",
        "  bits = [] # instantiate the bit container\n",
        "  for i in range(floor_bin): # add a bit to the list of bits according to the\n",
        "                             # bit count.\n",
        "    bits.append(1) \n",
        "  return bits\n",
        "\n",
        "get_subnet_bits(32)"
      ],
      "metadata": {
        "id": "nX2fixE5aH8z",
        "colab": {
          "base_uri": "https://localhost:8080/"
        },
        "outputId": "2c5ca12d-e9c6-43bd-d80f-070d7355e8bf"
      },
      "execution_count": null,
      "outputs": [
        {
          "output_type": "execute_result",
          "data": {
            "text/plain": [
              "[1, 1, 1, 1, 1]"
            ]
          },
          "metadata": {},
          "execution_count": 35
        }
      ]
    },
    {
      "cell_type": "code",
      "source": [
        "#### An Optimized Networks Example\n",
        "floor_bin = lambda num: math.floor(math.log2(num))\n",
        "\n",
        "def get_subnet_bits(user_count):\n",
        "  \n",
        "  nbits = floor_bin(user_count) # gets the floor bits from the user count\n",
        "  nbits = 1 if nbits==0 else nbits # assign 1 if bit count is 0.\n",
        "  bits = [1 for i in range(nbits)] # add a bit to the list of bits according \n",
        "                                   # to the bit count.\n",
        "  return bits\n",
        "\n",
        "get_subnet_bits(32)"
      ],
      "metadata": {
        "id": "jrKzgDv3aLxx",
        "colab": {
          "base_uri": "https://localhost:8080/"
        },
        "outputId": "9b057493-4ce3-4ddc-f011-c106b1a0c4bc"
      },
      "execution_count": null,
      "outputs": [
        {
          "output_type": "execute_result",
          "data": {
            "text/plain": [
              "[1, 1, 1, 1, 1]"
            ]
          },
          "metadata": {},
          "execution_count": 36
        }
      ]
    },
    {
      "cell_type": "code",
      "source": [
        "## The following code wil try to optimize solving for the inner product of two\n",
        "## lists\n",
        "vectA = [1,2,3,1,-1,2]\n",
        "vectB = [-1,4,5,3,2,0]"
      ],
      "metadata": {
        "id": "sMc6IJWlaQaL"
      },
      "execution_count": null,
      "outputs": []
    },
    {
      "cell_type": "code",
      "source": [
        "def inner_product(vect1, vect2):\n",
        "  result = 0 \n",
        "  for va,vb in zip(vectA, vectB):\n",
        "    result += va*vb\n",
        "  return result\n",
        "inner_product(vectA, vectB)"
      ],
      "metadata": {
        "id": "802k7n2CaUCu",
        "colab": {
          "base_uri": "https://localhost:8080/"
        },
        "outputId": "40fc0d66-d50c-49fe-ec0d-8015ddc98523"
      },
      "execution_count": null,
      "outputs": [
        {
          "output_type": "execute_result",
          "data": {
            "text/plain": [
              "23"
            ]
          },
          "metadata": {},
          "execution_count": 38
        }
      ]
    },
    {
      "cell_type": "code",
      "source": [
        "## Optimized method\n",
        "np.array(vectA) @ np.array(vectB) "
      ],
      "metadata": {
        "id": "fX90m0uoaX20",
        "colab": {
          "base_uri": "https://localhost:8080/"
        },
        "outputId": "f1c3d770-4775-4135-96e3-2665a670447b"
      },
      "execution_count": null,
      "outputs": [
        {
          "output_type": "execute_result",
          "data": {
            "text/plain": [
              "23"
            ]
          },
          "metadata": {},
          "execution_count": 39
        }
      ]
    },
    {
      "cell_type": "markdown",
      "source": [
        "### Task 3: Advanced Class Functions\n",
        "1. Optimize `get_grades()` by eliminating for loops in your function.\n",
        "2. Create a function named `get_similar_students()`\n",
        "  \n",
        "  `inputs`: two (2) class `DataFrames`\n",
        "  \n",
        "  `outputs`: list of common student numbers.\n",
        "\n",
        "  *Note*: The function should not contain iterative code blocks (i.e. `for` or `while` loops, or list comprehension)"
      ],
      "metadata": {
        "id": "V56iR_Q4aefv"
      }
    },
    {
      "cell_type": "code",
      "source": [
        "import pandas as pd\n",
        "from google.colab import files\n",
        "uploaded = files.upload()"
      ],
      "metadata": {
        "id": "lV5iet26ai7z",
        "colab": {
          "resources": {
            "http://localhost:8080/nbextensions/google.colab/files.js": {
              "data": "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",
              "ok": true,
              "headers": [
                [
                  "content-type",
                  "application/javascript"
                ]
              ],
              "status": 200,
              "status_text": ""
            }
          },
          "base_uri": "https://localhost:8080/",
          "height": 74
        },
        "outputId": "3aa94ea4-b505-47f2-870f-de247d2c2d9c"
      },
      "execution_count": null,
      "outputs": [
        {
          "output_type": "display_data",
          "data": {
            "text/plain": [
              "<IPython.core.display.HTML object>"
            ],
            "text/html": [
              "\n",
              "     <input type=\"file\" id=\"files-386e7847-dfb6-4cd2-a30d-f58d0a8fb471\" name=\"files[]\" multiple disabled\n",
              "        style=\"border:none\" />\n",
              "     <output id=\"result-386e7847-dfb6-4cd2-a30d-f58d0a8fb471\">\n",
              "      Upload widget is only available when the cell has been executed in the\n",
              "      current browser session. Please rerun this cell to enable.\n",
              "      </output>\n",
              "      <script src=\"/nbextensions/google.colab/files.js\"></script> "
            ]
          },
          "metadata": {}
        },
        {
          "output_type": "stream",
          "name": "stdout",
          "text": [
            "Saving classlists.xlsx to classlists (2).xlsx\n"
          ]
        }
      ]
    },
    {
      "cell_type": "code",
      "source": [
        "CL1 = pd.read_excel('classlists.xlsx', 'class1')         \n",
        "CL2 = pd.read_excel('classlists.xlsx', 'class2')\n",
        "\n",
        "def get_grades(Z):\n",
        "    Z['Semestral Grade'] = (Z.iloc[:,2:5].sum(axis=1))/3\n",
        "    return round(Z,2)\n",
        "  \n",
        "def get_similar_students(X_1, X_2):\n",
        "    df_similar = [X_1, X_2]\n",
        "    result = pd.concat(df_similar)       \n",
        "    return result\n",
        "get_similar_students(CL1, CL2)"
      ],
      "metadata": {
        "colab": {
          "base_uri": "https://localhost:8080/",
          "height": 424
        },
        "id": "Gb6UVr_ooKyf",
        "outputId": "cb82c4ba-780a-487e-b061-f8ae584c701a"
      },
      "execution_count": null,
      "outputs": [
        {
          "output_type": "execute_result",
          "data": {
            "text/plain": [
              "      Unnamed: 0    201103056\n",
              "0    201009754.0          NaN\n",
              "1    201109795.0          NaN\n",
              "2    201005713.0          NaN\n",
              "3    201009855.0          NaN\n",
              "4    201006171.0          NaN\n",
              "..           ...          ...\n",
              "994          NaN  201101346.0\n",
              "995          NaN  201007625.0\n",
              "996          NaN  201003815.0\n",
              "997          NaN  201102428.0\n",
              "998          NaN  201006876.0\n",
              "\n",
              "[1999 rows x 2 columns]"
            ],
            "text/html": [
              "\n",
              "  <div id=\"df-b9e1d115-b483-433e-8e67-b55cb54def71\">\n",
              "    <div class=\"colab-df-container\">\n",
              "      <div>\n",
              "<style scoped>\n",
              "    .dataframe tbody tr th:only-of-type {\n",
              "        vertical-align: middle;\n",
              "    }\n",
              "\n",
              "    .dataframe tbody tr th {\n",
              "        vertical-align: top;\n",
              "    }\n",
              "\n",
              "    .dataframe thead th {\n",
              "        text-align: right;\n",
              "    }\n",
              "</style>\n",
              "<table border=\"1\" class=\"dataframe\">\n",
              "  <thead>\n",
              "    <tr style=\"text-align: right;\">\n",
              "      <th></th>\n",
              "      <th>Unnamed: 0</th>\n",
              "      <th>201103056</th>\n",
              "    </tr>\n",
              "  </thead>\n",
              "  <tbody>\n",
              "    <tr>\n",
              "      <th>0</th>\n",
              "      <td>201009754.0</td>\n",
              "      <td>NaN</td>\n",
              "    </tr>\n",
              "    <tr>\n",
              "      <th>1</th>\n",
              "      <td>201109795.0</td>\n",
              "      <td>NaN</td>\n",
              "    </tr>\n",
              "    <tr>\n",
              "      <th>2</th>\n",
              "      <td>201005713.0</td>\n",
              "      <td>NaN</td>\n",
              "    </tr>\n",
              "    <tr>\n",
              "      <th>3</th>\n",
              "      <td>201009855.0</td>\n",
              "      <td>NaN</td>\n",
              "    </tr>\n",
              "    <tr>\n",
              "      <th>4</th>\n",
              "      <td>201006171.0</td>\n",
              "      <td>NaN</td>\n",
              "    </tr>\n",
              "    <tr>\n",
              "      <th>...</th>\n",
              "      <td>...</td>\n",
              "      <td>...</td>\n",
              "    </tr>\n",
              "    <tr>\n",
              "      <th>994</th>\n",
              "      <td>NaN</td>\n",
              "      <td>201101346.0</td>\n",
              "    </tr>\n",
              "    <tr>\n",
              "      <th>995</th>\n",
              "      <td>NaN</td>\n",
              "      <td>201007625.0</td>\n",
              "    </tr>\n",
              "    <tr>\n",
              "      <th>996</th>\n",
              "      <td>NaN</td>\n",
              "      <td>201003815.0</td>\n",
              "    </tr>\n",
              "    <tr>\n",
              "      <th>997</th>\n",
              "      <td>NaN</td>\n",
              "      <td>201102428.0</td>\n",
              "    </tr>\n",
              "    <tr>\n",
              "      <th>998</th>\n",
              "      <td>NaN</td>\n",
              "      <td>201006876.0</td>\n",
              "    </tr>\n",
              "  </tbody>\n",
              "</table>\n",
              "<p>1999 rows × 2 columns</p>\n",
              "</div>\n",
              "      <button class=\"colab-df-convert\" onclick=\"convertToInteractive('df-b9e1d115-b483-433e-8e67-b55cb54def71')\"\n",
              "              title=\"Convert this dataframe to an interactive table.\"\n",
              "              style=\"display:none;\">\n",
              "        \n",
              "  <svg xmlns=\"http://www.w3.org/2000/svg\" height=\"24px\"viewBox=\"0 0 24 24\"\n",
              "       width=\"24px\">\n",
              "    <path d=\"M0 0h24v24H0V0z\" fill=\"none\"/>\n",
              "    <path d=\"M18.56 5.44l.94 2.06.94-2.06 2.06-.94-2.06-.94-.94-2.06-.94 2.06-2.06.94zm-11 1L8.5 8.5l.94-2.06 2.06-.94-2.06-.94L8.5 2.5l-.94 2.06-2.06.94zm10 10l.94 2.06.94-2.06 2.06-.94-2.06-.94-.94-2.06-.94 2.06-2.06.94z\"/><path d=\"M17.41 7.96l-1.37-1.37c-.4-.4-.92-.59-1.43-.59-.52 0-1.04.2-1.43.59L10.3 9.45l-7.72 7.72c-.78.78-.78 2.05 0 2.83L4 21.41c.39.39.9.59 1.41.59.51 0 1.02-.2 1.41-.59l7.78-7.78 2.81-2.81c.8-.78.8-2.07 0-2.86zM5.41 20L4 18.59l7.72-7.72 1.47 1.35L5.41 20z\"/>\n",
              "  </svg>\n",
              "      </button>\n",
              "      \n",
              "  <style>\n",
              "    .colab-df-container {\n",
              "      display:flex;\n",
              "      flex-wrap:wrap;\n",
              "      gap: 12px;\n",
              "    }\n",
              "\n",
              "    .colab-df-convert {\n",
              "      background-color: #E8F0FE;\n",
              "      border: none;\n",
              "      border-radius: 50%;\n",
              "      cursor: pointer;\n",
              "      display: none;\n",
              "      fill: #1967D2;\n",
              "      height: 32px;\n",
              "      padding: 0 0 0 0;\n",
              "      width: 32px;\n",
              "    }\n",
              "\n",
              "    .colab-df-convert:hover {\n",
              "      background-color: #E2EBFA;\n",
              "      box-shadow: 0px 1px 2px rgba(60, 64, 67, 0.3), 0px 1px 3px 1px rgba(60, 64, 67, 0.15);\n",
              "      fill: #174EA6;\n",
              "    }\n",
              "\n",
              "    [theme=dark] .colab-df-convert {\n",
              "      background-color: #3B4455;\n",
              "      fill: #D2E3FC;\n",
              "    }\n",
              "\n",
              "    [theme=dark] .colab-df-convert:hover {\n",
              "      background-color: #434B5C;\n",
              "      box-shadow: 0px 1px 3px 1px rgba(0, 0, 0, 0.15);\n",
              "      filter: drop-shadow(0px 1px 2px rgba(0, 0, 0, 0.3));\n",
              "      fill: #FFFFFF;\n",
              "    }\n",
              "  </style>\n",
              "\n",
              "      <script>\n",
              "        const buttonEl =\n",
              "          document.querySelector('#df-b9e1d115-b483-433e-8e67-b55cb54def71 button.colab-df-convert');\n",
              "        buttonEl.style.display =\n",
              "          google.colab.kernel.accessAllowed ? 'block' : 'none';\n",
              "\n",
              "        async function convertToInteractive(key) {\n",
              "          const element = document.querySelector('#df-b9e1d115-b483-433e-8e67-b55cb54def71');\n",
              "          const dataTable =\n",
              "            await google.colab.kernel.invokeFunction('convertToInteractive',\n",
              "                                                     [key], {});\n",
              "          if (!dataTable) return;\n",
              "\n",
              "          const docLinkHtml = 'Like what you see? Visit the ' +\n",
              "            '<a target=\"_blank\" href=https://colab.research.google.com/notebooks/data_table.ipynb>data table notebook</a>'\n",
              "            + ' to learn more about interactive tables.';\n",
              "          element.innerHTML = '';\n",
              "          dataTable['output_type'] = 'display_data';\n",
              "          await google.colab.output.renderOutput(dataTable, element);\n",
              "          const docLink = document.createElement('div');\n",
              "          docLink.innerHTML = docLinkHtml;\n",
              "          element.appendChild(docLink);\n",
              "        }\n",
              "      </script>\n",
              "    </div>\n",
              "  </div>\n",
              "  "
            ]
          },
          "metadata": {},
          "execution_count": 73
        }
      ]
    },
    {
      "cell_type": "markdown",
      "source": [
        "# 2. Some Object-Oriented Programming Concepts\n",
        "\n",
        "Object-oriented programming (OOP) is undoubtedly a foundational programming course for Software Engineering. The idea of OOP is to transform procedural programming into a more modular programming style. In this section, we are going to review the fundamentals of OOP such as objects, classes, and encapsulation."
      ],
      "metadata": {
        "id": "N5FaBXYvampG"
      }
    },
    {
      "cell_type": "markdown",
      "source": [
        "2.1 Objects and Classes\n",
        "\n",
        "Learning about objects and classes is one of the foundations of OOP. Think of objects as any object that you could see. Like cars, shirts, humans, professions, even your favorite anime characters. Classes on the other hand are the categories or concepts of those things. In this section, we’ll review how to instantiate classes and objects."
      ],
      "metadata": {
        "id": "_a01vabfauI3"
      }
    },
    {
      "cell_type": "markdown",
      "source": [
        "### *Attributes and Methods*\n",
        "Just like any object are just things we could describe them or they could have what we call descriptions or characteristics. In OOP we call these attributes. Attributes can be any value representing an aspect of the object which is inclusive to its concept of class. For example, a tree (object)  under the category of plants (class) could have attributes such as its name, age, height, or even the amount of oxygen it produces.\n",
        "\n",
        "Methods, on the other hand, are interactions that could be done by the object or could be done onto the object. For example for our tree, it could grow, photosynthesize, absorb water, or we could harvest its fruits. In this example, we can try to review the attributes and methods of a class or object."
      ],
      "metadata": {
        "id": "MFym0z9EaypP"
      }
    },
    {
      "cell_type": "code",
      "source": [
        "'''\n",
        "    CASE 4: Class of Classes\n",
        "\n",
        "    For this section we are going to look at implementing the fundamentals of\n",
        "    OOP for our class routines.\n",
        "'''\n",
        "class Section:\n",
        "  def __init__(self, max_pop, class_list):\n",
        "    self.max_pop = max_pop\n",
        "    self.class_list = class_list\n",
        "  \n",
        "  def count_class(self):\n",
        "    return len(self.class_list)\n",
        "\n",
        "  def is_overloaded(self):\n",
        "    is_overload = True if self.count_class() > self.max_pop else False\n",
        "    return is_overload"
      ],
      "metadata": {
        "id": "7tOG-TVba4Kj"
      },
      "execution_count": null,
      "outputs": []
    },
    {
      "cell_type": "markdown",
      "source": [
        "### *Class Instantiation*\n",
        "Now that we have created our class let’s try to put them to use in code. To use classes and objects in your code we are going to instantiate them. There are several ways to instantiate an object and we will be trying them out in this section."
      ],
      "metadata": {
        "id": "rLyJMf4aa8pT"
      }
    },
    {
      "cell_type": "code",
      "source": [
        "CpE_58053 = Section(40, ['John'])\n",
        "print(CpE_58053.is_overloaded())\n",
        "print(CpE_58053.count_class())"
      ],
      "metadata": {
        "id": "p738cILYbClX",
        "colab": {
          "base_uri": "https://localhost:8080/"
        },
        "outputId": "057abadc-4cfa-46c3-b748-1f131e17d30e"
      },
      "execution_count": null,
      "outputs": [
        {
          "output_type": "stream",
          "name": "stdout",
          "text": [
            "False\n",
            "1\n"
          ]
        }
      ]
    },
    {
      "cell_type": "markdown",
      "source": [
        "## 2.2 Encapsulation\n",
        "The idea of incapsulation is to restrict users or developers from using or tampering with the internal attributes or methods of a class. This would be similar to using the private or public property in Java, C++, or C#. Python also enforces this in programming but in a different way. \n",
        "\n",
        "Not every procedure or transaction in a class should be shown to the users. We used the concept of encapsulation to solve this. In Python, all attributes, variables, or methods are public by default. In this section, we will see how to make methods and attributes private."
      ],
      "metadata": {
        "id": "HOg50LQGbGtq"
      }
    },
    {
      "cell_type": "code",
      "source": [
        "class Section:\n",
        "  def __init__(self, max_pop, class_list):\n",
        "    self.max_pop = max_pop\n",
        "    self.class_list = class_list\n",
        "  \n",
        "  def __count_class(self):\n",
        "    return len(self.class_list)\n",
        "\n",
        "  def is_overloaded(self):\n",
        "    is_overload = True if self.__count_class() > self.max_pop else False\n",
        "    return is_overload"
      ],
      "metadata": {
        "id": "FRlDgskBbQL3"
      },
      "execution_count": null,
      "outputs": []
    },
    {
      "cell_type": "code",
      "source": [
        "CpE_58054 = Section(2, ['Jeanne', 'Pietro', 'Dude'])\n",
        "print(CpE_58054.is_overloaded())\n",
        "print(CpE_58054.count_class())"
      ],
      "metadata": {
        "id": "agmRevtcbXT4",
        "colab": {
          "base_uri": "https://localhost:8080/",
          "height": 232
        },
        "outputId": "fe84bc75-49c0-49b2-f751-aba3725616f4"
      },
      "execution_count": null,
      "outputs": [
        {
          "output_type": "stream",
          "name": "stdout",
          "text": [
            "True\n"
          ]
        },
        {
          "output_type": "error",
          "ename": "AttributeError",
          "evalue": "ignored",
          "traceback": [
            "\u001b[0;31m---------------------------------------------------------------------------\u001b[0m",
            "\u001b[0;31mAttributeError\u001b[0m                            Traceback (most recent call last)",
            "\u001b[0;32m<ipython-input-78-f3d0245e1b16>\u001b[0m in \u001b[0;36m<module>\u001b[0;34m\u001b[0m\n\u001b[1;32m      1\u001b[0m \u001b[0mCpE_58054\u001b[0m \u001b[0;34m=\u001b[0m \u001b[0mSection\u001b[0m\u001b[0;34m(\u001b[0m\u001b[0;36m2\u001b[0m\u001b[0;34m,\u001b[0m \u001b[0;34m[\u001b[0m\u001b[0;34m'Jeanne'\u001b[0m\u001b[0;34m,\u001b[0m \u001b[0;34m'Pietro'\u001b[0m\u001b[0;34m,\u001b[0m \u001b[0;34m'Dude'\u001b[0m\u001b[0;34m]\u001b[0m\u001b[0;34m)\u001b[0m\u001b[0;34m\u001b[0m\u001b[0;34m\u001b[0m\u001b[0m\n\u001b[1;32m      2\u001b[0m \u001b[0mprint\u001b[0m\u001b[0;34m(\u001b[0m\u001b[0mCpE_58054\u001b[0m\u001b[0;34m.\u001b[0m\u001b[0mis_overloaded\u001b[0m\u001b[0;34m(\u001b[0m\u001b[0;34m)\u001b[0m\u001b[0;34m)\u001b[0m\u001b[0;34m\u001b[0m\u001b[0;34m\u001b[0m\u001b[0m\n\u001b[0;32m----> 3\u001b[0;31m \u001b[0mprint\u001b[0m\u001b[0;34m(\u001b[0m\u001b[0mCpE_58054\u001b[0m\u001b[0;34m.\u001b[0m\u001b[0mcount_class\u001b[0m\u001b[0;34m(\u001b[0m\u001b[0;34m)\u001b[0m\u001b[0;34m)\u001b[0m\u001b[0;34m\u001b[0m\u001b[0;34m\u001b[0m\u001b[0m\n\u001b[0m",
            "\u001b[0;31mAttributeError\u001b[0m: 'Section' object has no attribute 'count_class'"
          ]
        }
      ]
    },
    {
      "cell_type": "markdown",
      "source": [
        "### Task 4: Class of Classes\n",
        "1. Modify the `class` `Section` and integrate the functions from Tasks 1 to 3 as its methods. Make sure that the codes are optimized.\n",
        "2. Create a `method` named `get_failed()` wherein it will create a list of all the failed students in the class.\n",
        "3. Create a `method` named `fail_count()` wherein it will return the count of the failed students.\n",
        "\n",
        "** **Note:** due to data privacy, the data privacy office has mandated your code to refrain from printing the student number and names of students. Their student numbers and names  must be masked with asterisks."
      ],
      "metadata": {
        "id": "ptTnr3DfbbiU"
      }
    },
    {
      "cell_type": "code",
      "source": [
        "import numpy as np\n",
        "import pandas as pd\n",
        "from google.colab import files\n",
        "uploaded = files.upload()"
      ],
      "metadata": {
        "id": "WdSSr7Bsbhg-",
        "colab": {
          "resources": {
            "http://localhost:8080/nbextensions/google.colab/files.js": {
              "data": "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",
              "ok": true,
              "headers": [
                [
                  "content-type",
                  "application/javascript"
                ]
              ],
              "status": 200,
              "status_text": ""
            }
          },
          "base_uri": "https://localhost:8080/",
          "height": 91
        },
        "outputId": "2fba3031-ad0f-43d3-d274-18e5141654cd"
      },
      "execution_count": null,
      "outputs": [
        {
          "output_type": "display_data",
          "data": {
            "text/plain": [
              "<IPython.core.display.HTML object>"
            ],
            "text/html": [
              "\n",
              "     <input type=\"file\" id=\"files-c2fbaa53-af52-40e7-aacb-552e7d076c6e\" name=\"files[]\" multiple disabled\n",
              "        style=\"border:none\" />\n",
              "     <output id=\"result-c2fbaa53-af52-40e7-aacb-552e7d076c6e\">\n",
              "      Upload widget is only available when the cell has been executed in the\n",
              "      current browser session. Please rerun this cell to enable.\n",
              "      </output>\n",
              "      <script src=\"/nbextensions/google.colab/files.js\"></script> "
            ]
          },
          "metadata": {}
        },
        {
          "output_type": "stream",
          "name": "stdout",
          "text": [
            "Saving class_grades-1.xlsx to class_grades-1 (1).xlsx\n"
          ]
        }
      ]
    },
    {
      "cell_type": "code",
      "source": [
        "cg = pd.read_excel (uploaded['class_grades-1.xlsx'])\n",
        "print (cg)"
      ],
      "metadata": {
        "colab": {
          "base_uri": "https://localhost:8080/"
        },
        "id": "UoHCLdxFrGof",
        "outputId": "d1143331-d96d-40c1-f2cf-87530271fe5e"
      },
      "execution_count": null,
      "outputs": [
        {
          "output_type": "stream",
          "name": "stdout",
          "text": [
            "       name  id  prelim_grades  midterm_grades  final_grades\n",
            "0     alpha   1      94.960000          95.260       92.2192\n",
            "1     aleph   2      94.960000          95.260       92.7792\n",
            "2      beta   3      78.173333          94.360       84.3200\n",
            "3      beth   4      78.173333          81.372       84.6400\n",
            "4    cuprum   5      94.960000          95.260       92.2192\n",
            "5     delta   6      84.826667          92.485       83.5792\n",
            "6       eta   7      93.980000          97.300       95.6528\n",
            "7   epsilon   8      60.788200          68.000       83.8672\n",
            "8   foxtrot   9      94.306667          82.000       84.1472\n",
            "9     gamma  10      96.406667          82.000       84.1472\n",
            "10     geld  11      86.926667          92.485       82.7792\n",
            "11    horus  12      78.173333          94.360       84.3200\n",
            "12     iota  13      94.306667          82.000       84.1472\n",
            "13     ixus  14      78.173333          94.360       84.3200\n",
            "14  jakarta  15      84.826667          92.485       82.7792\n",
            "15    koppa  16      84.826667          87.685       83.8672\n",
            "16   lambda  17      93.980000          97.300       95.6528\n",
            "17       mu  18      79.806667          83.500       81.2792\n",
            "18       nu  19      75.406667          82.000       82.5472\n",
            "19     neta  20      69.314000          87.685       50.3360\n",
            "20  omicron  21      93.980000          97.300       95.6528\n",
            "21    omega  22      79.806667          83.500       81.2792\n",
            "22  phalanx  23      84.826667          92.485       82.7792\n",
            "23     peta  24      94.960000          95.260       92.2192\n",
            "24       pi  25      79.806667          87.460       81.2792\n",
            "25    yotta  26      93.980000          97.300       94.8528\n",
            "26     zeta  27      86.626667          84.850       83.8672\n"
          ]
        }
      ]
    },
    {
      "cell_type": "code",
      "source": [
        "students = (cg['name'].tolist())\n",
        "student_id = (cg['id'].tolist())\n",
        "final_grades = (cg['final_grades'].tolist())\n",
        "student_fail = 70\n",
        "\n",
        "students_dict_comp = {name:[id,final_grades] for name, id, final_grades in zip(students, student_id, final_grades)}\n",
        "print(students_dict_comp)\n",
        "print(\"Here are the list of Failed Students if Passing is 70:\")\n",
        "\n",
        "def get_failed (students_dict_comp): \n",
        "    for student in students_dict_comp:\n",
        " \n",
        "        student_gpa = students_dict_comp[student][1]\n",
        "        if student_gpa <= student_fail:\n",
        "            \n",
        "            print(student)\n",
        "get_failed(students_dict_comp)"
      ],
      "metadata": {
        "colab": {
          "base_uri": "https://localhost:8080/"
        },
        "id": "RXIM7nUXrIqc",
        "outputId": "c301c95a-d692-4997-ebc1-36db2de682b0"
      },
      "execution_count": null,
      "outputs": [
        {
          "output_type": "stream",
          "name": "stdout",
          "text": [
            "{'alpha': [1, 92.2192], 'aleph': [2, 92.7792], 'beta': [3, 84.32], 'beth': [4, 84.64], 'cuprum': [5, 92.2192], 'delta': [6, 83.5792], 'eta': [7, 95.6528], 'epsilon': [8, 83.8672], 'foxtrot': [9, 84.1472], 'gamma': [10, 84.1472], 'geld': [11, 82.7792], 'horus': [12, 84.32], 'iota': [13, 84.1472], 'ixus': [14, 84.32], 'jakarta': [15, 82.7792], 'koppa': [16, 83.8672], 'lambda': [17, 95.6528], 'mu': [18, 81.2792], 'nu': [19, 82.5472], 'neta': [20, 50.336], 'omicron': [21, 95.6528], 'omega': [22, 81.2792], 'phalanx': [23, 82.7792], 'peta': [24, 92.2192], 'pi': [25, 81.2792], 'yotta': [26, 94.8528], 'zeta': [27, 83.8672]}\n",
            "Here are the list of Failed Students if Passing is 70:\n",
            "neta\n"
          ]
        }
      ]
    },
    {
      "cell_type": "code",
      "source": [
        "def fail_count (students_dict_comp): \n",
        "    for student in students_dict_comp: \n",
        "        student_gpa = students_dict_comp[student][1]\n",
        "count = sum(i < student_fail for i in final_grades)\n",
        "  \n",
        "print (\"Number of students failed : \" + str(count))\n",
        "\n",
        "fail_count(students_dict_comp)"
      ],
      "metadata": {
        "colab": {
          "base_uri": "https://localhost:8080/"
        },
        "id": "_xjUWLXrrQiv",
        "outputId": "bccaa4f9-9abb-484e-ca55-f3afc813508e"
      },
      "execution_count": null,
      "outputs": [
        {
          "output_type": "stream",
          "name": "stdout",
          "text": [
            "Number of students failed : 1\n"
          ]
        }
      ]
    },
    {
      "cell_type": "markdown",
      "source": [
        "---\n",
        "**END OF LABORATORY**\n",
        "\n",
        "---"
      ],
      "metadata": {
        "id": "9MfSybRXbmvj"
      }
    }
  ]
}